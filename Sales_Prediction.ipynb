{
  "nbformat": 4,
  "nbformat_minor": 0,
  "metadata": {
    "colab": {
      "provenance": []
    },
    "kernelspec": {
      "name": "python3",
      "display_name": "Python 3"
    },
    "language_info": {
      "name": "python"
    }
  },
  "cells": [
    {
      "cell_type": "code",
      "execution_count": null,
      "metadata": {
        "id": "4CIjpuOD5UxD"
      },
      "outputs": [],
      "source": [
        "import pandas as pd\n",
        "import numpy as np\n",
        "import matplotlib.pyplot as plt\n",
        "import seaborn as sns\n",
        "df = pd.read_csv('/content/drive/MyDrive/Dataset/Advertising.csv')"
      ]
    },
    {
      "cell_type": "code",
      "source": [
        "df.head()\n"
      ],
      "metadata": {
        "colab": {
          "base_uri": "https://localhost:8080/",
          "height": 206
        },
        "id": "mRQoWXgi6FPn",
        "outputId": "d0e2f87c-082e-46f3-8582-bdb118cad856"
      },
      "execution_count": null,
      "outputs": [
        {
          "output_type": "execute_result",
          "data": {
            "text/plain": [
              "   Unnamed: 0     TV  Radio  Newspaper  Sales\n",
              "0           1  230.1   37.8       69.2   22.1\n",
              "1           2   44.5   39.3       45.1   10.4\n",
              "2           3   17.2   45.9       69.3    9.3\n",
              "3           4  151.5   41.3       58.5   18.5\n",
              "4           5  180.8   10.8       58.4   12.9"
            ],
            "text/html": [
              "\n",
              "  <div id=\"df-900ec340-4454-4a55-baad-93efb6d2ba37\" class=\"colab-df-container\">\n",
              "    <div>\n",
              "<style scoped>\n",
              "    .dataframe tbody tr th:only-of-type {\n",
              "        vertical-align: middle;\n",
              "    }\n",
              "\n",
              "    .dataframe tbody tr th {\n",
              "        vertical-align: top;\n",
              "    }\n",
              "\n",
              "    .dataframe thead th {\n",
              "        text-align: right;\n",
              "    }\n",
              "</style>\n",
              "<table border=\"1\" class=\"dataframe\">\n",
              "  <thead>\n",
              "    <tr style=\"text-align: right;\">\n",
              "      <th></th>\n",
              "      <th>Unnamed: 0</th>\n",
              "      <th>TV</th>\n",
              "      <th>Radio</th>\n",
              "      <th>Newspaper</th>\n",
              "      <th>Sales</th>\n",
              "    </tr>\n",
              "  </thead>\n",
              "  <tbody>\n",
              "    <tr>\n",
              "      <th>0</th>\n",
              "      <td>1</td>\n",
              "      <td>230.1</td>\n",
              "      <td>37.8</td>\n",
              "      <td>69.2</td>\n",
              "      <td>22.1</td>\n",
              "    </tr>\n",
              "    <tr>\n",
              "      <th>1</th>\n",
              "      <td>2</td>\n",
              "      <td>44.5</td>\n",
              "      <td>39.3</td>\n",
              "      <td>45.1</td>\n",
              "      <td>10.4</td>\n",
              "    </tr>\n",
              "    <tr>\n",
              "      <th>2</th>\n",
              "      <td>3</td>\n",
              "      <td>17.2</td>\n",
              "      <td>45.9</td>\n",
              "      <td>69.3</td>\n",
              "      <td>9.3</td>\n",
              "    </tr>\n",
              "    <tr>\n",
              "      <th>3</th>\n",
              "      <td>4</td>\n",
              "      <td>151.5</td>\n",
              "      <td>41.3</td>\n",
              "      <td>58.5</td>\n",
              "      <td>18.5</td>\n",
              "    </tr>\n",
              "    <tr>\n",
              "      <th>4</th>\n",
              "      <td>5</td>\n",
              "      <td>180.8</td>\n",
              "      <td>10.8</td>\n",
              "      <td>58.4</td>\n",
              "      <td>12.9</td>\n",
              "    </tr>\n",
              "  </tbody>\n",
              "</table>\n",
              "</div>\n",
              "    <div class=\"colab-df-buttons\">\n",
              "\n",
              "  <div class=\"colab-df-container\">\n",
              "    <button class=\"colab-df-convert\" onclick=\"convertToInteractive('df-900ec340-4454-4a55-baad-93efb6d2ba37')\"\n",
              "            title=\"Convert this dataframe to an interactive table.\"\n",
              "            style=\"display:none;\">\n",
              "\n",
              "  <svg xmlns=\"http://www.w3.org/2000/svg\" height=\"24px\" viewBox=\"0 -960 960 960\">\n",
              "    <path d=\"M120-120v-720h720v720H120Zm60-500h600v-160H180v160Zm220 220h160v-160H400v160Zm0 220h160v-160H400v160ZM180-400h160v-160H180v160Zm440 0h160v-160H620v160ZM180-180h160v-160H180v160Zm440 0h160v-160H620v160Z\"/>\n",
              "  </svg>\n",
              "    </button>\n",
              "\n",
              "  <style>\n",
              "    .colab-df-container {\n",
              "      display:flex;\n",
              "      gap: 12px;\n",
              "    }\n",
              "\n",
              "    .colab-df-convert {\n",
              "      background-color: #E8F0FE;\n",
              "      border: none;\n",
              "      border-radius: 50%;\n",
              "      cursor: pointer;\n",
              "      display: none;\n",
              "      fill: #1967D2;\n",
              "      height: 32px;\n",
              "      padding: 0 0 0 0;\n",
              "      width: 32px;\n",
              "    }\n",
              "\n",
              "    .colab-df-convert:hover {\n",
              "      background-color: #E2EBFA;\n",
              "      box-shadow: 0px 1px 2px rgba(60, 64, 67, 0.3), 0px 1px 3px 1px rgba(60, 64, 67, 0.15);\n",
              "      fill: #174EA6;\n",
              "    }\n",
              "\n",
              "    .colab-df-buttons div {\n",
              "      margin-bottom: 4px;\n",
              "    }\n",
              "\n",
              "    [theme=dark] .colab-df-convert {\n",
              "      background-color: #3B4455;\n",
              "      fill: #D2E3FC;\n",
              "    }\n",
              "\n",
              "    [theme=dark] .colab-df-convert:hover {\n",
              "      background-color: #434B5C;\n",
              "      box-shadow: 0px 1px 3px 1px rgba(0, 0, 0, 0.15);\n",
              "      filter: drop-shadow(0px 1px 2px rgba(0, 0, 0, 0.3));\n",
              "      fill: #FFFFFF;\n",
              "    }\n",
              "  </style>\n",
              "\n",
              "    <script>\n",
              "      const buttonEl =\n",
              "        document.querySelector('#df-900ec340-4454-4a55-baad-93efb6d2ba37 button.colab-df-convert');\n",
              "      buttonEl.style.display =\n",
              "        google.colab.kernel.accessAllowed ? 'block' : 'none';\n",
              "\n",
              "      async function convertToInteractive(key) {\n",
              "        const element = document.querySelector('#df-900ec340-4454-4a55-baad-93efb6d2ba37');\n",
              "        const dataTable =\n",
              "          await google.colab.kernel.invokeFunction('convertToInteractive',\n",
              "                                                    [key], {});\n",
              "        if (!dataTable) return;\n",
              "\n",
              "        const docLinkHtml = 'Like what you see? Visit the ' +\n",
              "          '<a target=\"_blank\" href=https://colab.research.google.com/notebooks/data_table.ipynb>data table notebook</a>'\n",
              "          + ' to learn more about interactive tables.';\n",
              "        element.innerHTML = '';\n",
              "        dataTable['output_type'] = 'display_data';\n",
              "        await google.colab.output.renderOutput(dataTable, element);\n",
              "        const docLink = document.createElement('div');\n",
              "        docLink.innerHTML = docLinkHtml;\n",
              "        element.appendChild(docLink);\n",
              "      }\n",
              "    </script>\n",
              "  </div>\n",
              "\n",
              "\n",
              "<div id=\"df-8496b2d2-3c00-4db4-8741-75b58bea97bf\">\n",
              "  <button class=\"colab-df-quickchart\" onclick=\"quickchart('df-8496b2d2-3c00-4db4-8741-75b58bea97bf')\"\n",
              "            title=\"Suggest charts.\"\n",
              "            style=\"display:none;\">\n",
              "\n",
              "<svg xmlns=\"http://www.w3.org/2000/svg\" height=\"24px\"viewBox=\"0 0 24 24\"\n",
              "     width=\"24px\">\n",
              "    <g>\n",
              "        <path d=\"M19 3H5c-1.1 0-2 .9-2 2v14c0 1.1.9 2 2 2h14c1.1 0 2-.9 2-2V5c0-1.1-.9-2-2-2zM9 17H7v-7h2v7zm4 0h-2V7h2v10zm4 0h-2v-4h2v4z\"/>\n",
              "    </g>\n",
              "</svg>\n",
              "  </button>\n",
              "\n",
              "<style>\n",
              "  .colab-df-quickchart {\n",
              "    background-color: #E8F0FE;\n",
              "    border: none;\n",
              "    border-radius: 50%;\n",
              "    cursor: pointer;\n",
              "    display: none;\n",
              "    fill: #1967D2;\n",
              "    height: 32px;\n",
              "    padding: 0 0 0 0;\n",
              "    width: 32px;\n",
              "  }\n",
              "\n",
              "  .colab-df-quickchart:hover {\n",
              "    background-color: #E2EBFA;\n",
              "    box-shadow: 0px 1px 2px rgba(60, 64, 67, 0.3), 0px 1px 3px 1px rgba(60, 64, 67, 0.15);\n",
              "    fill: #174EA6;\n",
              "  }\n",
              "\n",
              "  [theme=dark] .colab-df-quickchart {\n",
              "    background-color: #3B4455;\n",
              "    fill: #D2E3FC;\n",
              "  }\n",
              "\n",
              "  [theme=dark] .colab-df-quickchart:hover {\n",
              "    background-color: #434B5C;\n",
              "    box-shadow: 0px 1px 3px 1px rgba(0, 0, 0, 0.15);\n",
              "    filter: drop-shadow(0px 1px 2px rgba(0, 0, 0, 0.3));\n",
              "    fill: #FFFFFF;\n",
              "  }\n",
              "</style>\n",
              "\n",
              "  <script>\n",
              "    async function quickchart(key) {\n",
              "      const charts = await google.colab.kernel.invokeFunction(\n",
              "          'suggestCharts', [key], {});\n",
              "    }\n",
              "    (() => {\n",
              "      let quickchartButtonEl =\n",
              "        document.querySelector('#df-8496b2d2-3c00-4db4-8741-75b58bea97bf button');\n",
              "      quickchartButtonEl.style.display =\n",
              "        google.colab.kernel.accessAllowed ? 'block' : 'none';\n",
              "    })();\n",
              "  </script>\n",
              "</div>\n",
              "    </div>\n",
              "  </div>\n"
            ]
          },
          "metadata": {},
          "execution_count": 2
        }
      ]
    },
    {
      "cell_type": "code",
      "source": [
        "df.describe()"
      ],
      "metadata": {
        "colab": {
          "base_uri": "https://localhost:8080/",
          "height": 300
        },
        "id": "oryw3fSo6VZp",
        "outputId": "4b8dced2-2531-43f4-f088-9110c906e471"
      },
      "execution_count": null,
      "outputs": [
        {
          "output_type": "execute_result",
          "data": {
            "text/plain": [
              "       Unnamed: 0          TV       Radio   Newspaper       Sales\n",
              "count  200.000000  200.000000  200.000000  200.000000  200.000000\n",
              "mean   100.500000  147.042500   23.264000   30.554000   14.022500\n",
              "std     57.879185   85.854236   14.846809   21.778621    5.217457\n",
              "min      1.000000    0.700000    0.000000    0.300000    1.600000\n",
              "25%     50.750000   74.375000    9.975000   12.750000   10.375000\n",
              "50%    100.500000  149.750000   22.900000   25.750000   12.900000\n",
              "75%    150.250000  218.825000   36.525000   45.100000   17.400000\n",
              "max    200.000000  296.400000   49.600000  114.000000   27.000000"
            ],
            "text/html": [
              "\n",
              "  <div id=\"df-b95fd105-1c2e-49da-90f2-7599b1269d6b\" class=\"colab-df-container\">\n",
              "    <div>\n",
              "<style scoped>\n",
              "    .dataframe tbody tr th:only-of-type {\n",
              "        vertical-align: middle;\n",
              "    }\n",
              "\n",
              "    .dataframe tbody tr th {\n",
              "        vertical-align: top;\n",
              "    }\n",
              "\n",
              "    .dataframe thead th {\n",
              "        text-align: right;\n",
              "    }\n",
              "</style>\n",
              "<table border=\"1\" class=\"dataframe\">\n",
              "  <thead>\n",
              "    <tr style=\"text-align: right;\">\n",
              "      <th></th>\n",
              "      <th>Unnamed: 0</th>\n",
              "      <th>TV</th>\n",
              "      <th>Radio</th>\n",
              "      <th>Newspaper</th>\n",
              "      <th>Sales</th>\n",
              "    </tr>\n",
              "  </thead>\n",
              "  <tbody>\n",
              "    <tr>\n",
              "      <th>count</th>\n",
              "      <td>200.000000</td>\n",
              "      <td>200.000000</td>\n",
              "      <td>200.000000</td>\n",
              "      <td>200.000000</td>\n",
              "      <td>200.000000</td>\n",
              "    </tr>\n",
              "    <tr>\n",
              "      <th>mean</th>\n",
              "      <td>100.500000</td>\n",
              "      <td>147.042500</td>\n",
              "      <td>23.264000</td>\n",
              "      <td>30.554000</td>\n",
              "      <td>14.022500</td>\n",
              "    </tr>\n",
              "    <tr>\n",
              "      <th>std</th>\n",
              "      <td>57.879185</td>\n",
              "      <td>85.854236</td>\n",
              "      <td>14.846809</td>\n",
              "      <td>21.778621</td>\n",
              "      <td>5.217457</td>\n",
              "    </tr>\n",
              "    <tr>\n",
              "      <th>min</th>\n",
              "      <td>1.000000</td>\n",
              "      <td>0.700000</td>\n",
              "      <td>0.000000</td>\n",
              "      <td>0.300000</td>\n",
              "      <td>1.600000</td>\n",
              "    </tr>\n",
              "    <tr>\n",
              "      <th>25%</th>\n",
              "      <td>50.750000</td>\n",
              "      <td>74.375000</td>\n",
              "      <td>9.975000</td>\n",
              "      <td>12.750000</td>\n",
              "      <td>10.375000</td>\n",
              "    </tr>\n",
              "    <tr>\n",
              "      <th>50%</th>\n",
              "      <td>100.500000</td>\n",
              "      <td>149.750000</td>\n",
              "      <td>22.900000</td>\n",
              "      <td>25.750000</td>\n",
              "      <td>12.900000</td>\n",
              "    </tr>\n",
              "    <tr>\n",
              "      <th>75%</th>\n",
              "      <td>150.250000</td>\n",
              "      <td>218.825000</td>\n",
              "      <td>36.525000</td>\n",
              "      <td>45.100000</td>\n",
              "      <td>17.400000</td>\n",
              "    </tr>\n",
              "    <tr>\n",
              "      <th>max</th>\n",
              "      <td>200.000000</td>\n",
              "      <td>296.400000</td>\n",
              "      <td>49.600000</td>\n",
              "      <td>114.000000</td>\n",
              "      <td>27.000000</td>\n",
              "    </tr>\n",
              "  </tbody>\n",
              "</table>\n",
              "</div>\n",
              "    <div class=\"colab-df-buttons\">\n",
              "\n",
              "  <div class=\"colab-df-container\">\n",
              "    <button class=\"colab-df-convert\" onclick=\"convertToInteractive('df-b95fd105-1c2e-49da-90f2-7599b1269d6b')\"\n",
              "            title=\"Convert this dataframe to an interactive table.\"\n",
              "            style=\"display:none;\">\n",
              "\n",
              "  <svg xmlns=\"http://www.w3.org/2000/svg\" height=\"24px\" viewBox=\"0 -960 960 960\">\n",
              "    <path d=\"M120-120v-720h720v720H120Zm60-500h600v-160H180v160Zm220 220h160v-160H400v160Zm0 220h160v-160H400v160ZM180-400h160v-160H180v160Zm440 0h160v-160H620v160ZM180-180h160v-160H180v160Zm440 0h160v-160H620v160Z\"/>\n",
              "  </svg>\n",
              "    </button>\n",
              "\n",
              "  <style>\n",
              "    .colab-df-container {\n",
              "      display:flex;\n",
              "      gap: 12px;\n",
              "    }\n",
              "\n",
              "    .colab-df-convert {\n",
              "      background-color: #E8F0FE;\n",
              "      border: none;\n",
              "      border-radius: 50%;\n",
              "      cursor: pointer;\n",
              "      display: none;\n",
              "      fill: #1967D2;\n",
              "      height: 32px;\n",
              "      padding: 0 0 0 0;\n",
              "      width: 32px;\n",
              "    }\n",
              "\n",
              "    .colab-df-convert:hover {\n",
              "      background-color: #E2EBFA;\n",
              "      box-shadow: 0px 1px 2px rgba(60, 64, 67, 0.3), 0px 1px 3px 1px rgba(60, 64, 67, 0.15);\n",
              "      fill: #174EA6;\n",
              "    }\n",
              "\n",
              "    .colab-df-buttons div {\n",
              "      margin-bottom: 4px;\n",
              "    }\n",
              "\n",
              "    [theme=dark] .colab-df-convert {\n",
              "      background-color: #3B4455;\n",
              "      fill: #D2E3FC;\n",
              "    }\n",
              "\n",
              "    [theme=dark] .colab-df-convert:hover {\n",
              "      background-color: #434B5C;\n",
              "      box-shadow: 0px 1px 3px 1px rgba(0, 0, 0, 0.15);\n",
              "      filter: drop-shadow(0px 1px 2px rgba(0, 0, 0, 0.3));\n",
              "      fill: #FFFFFF;\n",
              "    }\n",
              "  </style>\n",
              "\n",
              "    <script>\n",
              "      const buttonEl =\n",
              "        document.querySelector('#df-b95fd105-1c2e-49da-90f2-7599b1269d6b button.colab-df-convert');\n",
              "      buttonEl.style.display =\n",
              "        google.colab.kernel.accessAllowed ? 'block' : 'none';\n",
              "\n",
              "      async function convertToInteractive(key) {\n",
              "        const element = document.querySelector('#df-b95fd105-1c2e-49da-90f2-7599b1269d6b');\n",
              "        const dataTable =\n",
              "          await google.colab.kernel.invokeFunction('convertToInteractive',\n",
              "                                                    [key], {});\n",
              "        if (!dataTable) return;\n",
              "\n",
              "        const docLinkHtml = 'Like what you see? Visit the ' +\n",
              "          '<a target=\"_blank\" href=https://colab.research.google.com/notebooks/data_table.ipynb>data table notebook</a>'\n",
              "          + ' to learn more about interactive tables.';\n",
              "        element.innerHTML = '';\n",
              "        dataTable['output_type'] = 'display_data';\n",
              "        await google.colab.output.renderOutput(dataTable, element);\n",
              "        const docLink = document.createElement('div');\n",
              "        docLink.innerHTML = docLinkHtml;\n",
              "        element.appendChild(docLink);\n",
              "      }\n",
              "    </script>\n",
              "  </div>\n",
              "\n",
              "\n",
              "<div id=\"df-c0d876fe-0588-4264-914c-6def65264f5a\">\n",
              "  <button class=\"colab-df-quickchart\" onclick=\"quickchart('df-c0d876fe-0588-4264-914c-6def65264f5a')\"\n",
              "            title=\"Suggest charts.\"\n",
              "            style=\"display:none;\">\n",
              "\n",
              "<svg xmlns=\"http://www.w3.org/2000/svg\" height=\"24px\"viewBox=\"0 0 24 24\"\n",
              "     width=\"24px\">\n",
              "    <g>\n",
              "        <path d=\"M19 3H5c-1.1 0-2 .9-2 2v14c0 1.1.9 2 2 2h14c1.1 0 2-.9 2-2V5c0-1.1-.9-2-2-2zM9 17H7v-7h2v7zm4 0h-2V7h2v10zm4 0h-2v-4h2v4z\"/>\n",
              "    </g>\n",
              "</svg>\n",
              "  </button>\n",
              "\n",
              "<style>\n",
              "  .colab-df-quickchart {\n",
              "    background-color: #E8F0FE;\n",
              "    border: none;\n",
              "    border-radius: 50%;\n",
              "    cursor: pointer;\n",
              "    display: none;\n",
              "    fill: #1967D2;\n",
              "    height: 32px;\n",
              "    padding: 0 0 0 0;\n",
              "    width: 32px;\n",
              "  }\n",
              "\n",
              "  .colab-df-quickchart:hover {\n",
              "    background-color: #E2EBFA;\n",
              "    box-shadow: 0px 1px 2px rgba(60, 64, 67, 0.3), 0px 1px 3px 1px rgba(60, 64, 67, 0.15);\n",
              "    fill: #174EA6;\n",
              "  }\n",
              "\n",
              "  [theme=dark] .colab-df-quickchart {\n",
              "    background-color: #3B4455;\n",
              "    fill: #D2E3FC;\n",
              "  }\n",
              "\n",
              "  [theme=dark] .colab-df-quickchart:hover {\n",
              "    background-color: #434B5C;\n",
              "    box-shadow: 0px 1px 3px 1px rgba(0, 0, 0, 0.15);\n",
              "    filter: drop-shadow(0px 1px 2px rgba(0, 0, 0, 0.3));\n",
              "    fill: #FFFFFF;\n",
              "  }\n",
              "</style>\n",
              "\n",
              "  <script>\n",
              "    async function quickchart(key) {\n",
              "      const charts = await google.colab.kernel.invokeFunction(\n",
              "          'suggestCharts', [key], {});\n",
              "    }\n",
              "    (() => {\n",
              "      let quickchartButtonEl =\n",
              "        document.querySelector('#df-c0d876fe-0588-4264-914c-6def65264f5a button');\n",
              "      quickchartButtonEl.style.display =\n",
              "        google.colab.kernel.accessAllowed ? 'block' : 'none';\n",
              "    })();\n",
              "  </script>\n",
              "</div>\n",
              "    </div>\n",
              "  </div>\n"
            ]
          },
          "metadata": {},
          "execution_count": 3
        }
      ]
    },
    {
      "cell_type": "code",
      "source": [
        "df.info()"
      ],
      "metadata": {
        "colab": {
          "base_uri": "https://localhost:8080/"
        },
        "id": "UVpuWaxJ6cNF",
        "outputId": "3a37a9c3-ac9c-4ae1-ed5f-a3ef770abf86"
      },
      "execution_count": null,
      "outputs": [
        {
          "output_type": "stream",
          "name": "stdout",
          "text": [
            "<class 'pandas.core.frame.DataFrame'>\n",
            "RangeIndex: 200 entries, 0 to 199\n",
            "Data columns (total 5 columns):\n",
            " #   Column      Non-Null Count  Dtype  \n",
            "---  ------      --------------  -----  \n",
            " 0   Unnamed: 0  200 non-null    int64  \n",
            " 1   TV          200 non-null    float64\n",
            " 2   Radio       200 non-null    float64\n",
            " 3   Newspaper   200 non-null    float64\n",
            " 4   Sales       200 non-null    float64\n",
            "dtypes: float64(4), int64(1)\n",
            "memory usage: 7.9 KB\n"
          ]
        }
      ]
    },
    {
      "cell_type": "code",
      "source": [
        "df.columns"
      ],
      "metadata": {
        "colab": {
          "base_uri": "https://localhost:8080/"
        },
        "id": "L0Q9D_IN6d8w",
        "outputId": "28388301-3c78-4ef0-8284-68b64a38c626"
      },
      "execution_count": null,
      "outputs": [
        {
          "output_type": "execute_result",
          "data": {
            "text/plain": [
              "Index(['Unnamed: 0', 'TV', 'Radio', 'Newspaper', 'Sales'], dtype='object')"
            ]
          },
          "metadata": {},
          "execution_count": 5
        }
      ]
    },
    {
      "cell_type": "code",
      "source": [
        "df.isnull().sum()\n"
      ],
      "metadata": {
        "colab": {
          "base_uri": "https://localhost:8080/"
        },
        "id": "DM_OQD_T6tZ_",
        "outputId": "22fbcd73-8174-41fd-814a-d4ab7c8adedf"
      },
      "execution_count": null,
      "outputs": [
        {
          "output_type": "execute_result",
          "data": {
            "text/plain": [
              "Unnamed: 0    0\n",
              "TV            0\n",
              "Radio         0\n",
              "Newspaper     0\n",
              "Sales         0\n",
              "dtype: int64"
            ]
          },
          "metadata": {},
          "execution_count": 6
        }
      ]
    },
    {
      "cell_type": "code",
      "source": [
        "fig, axs = plt.subplots(3, figsize = (5,5))\n",
        "plt1 = sns.boxplot(df['TV'], ax = axs[0])\n",
        "plt2 = sns.boxplot(df['Newspaper'], ax = axs[1])\n",
        "plt3 = sns.boxplot(df['Radio'], ax = axs[2])\n",
        "plt.tight_layout()"
      ],
      "metadata": {
        "colab": {
          "base_uri": "https://localhost:8080/",
          "height": 506
        },
        "id": "XUoDcPDI6wFo",
        "outputId": "61c8e35b-3666-4156-8f0c-f0338f2f1698"
      },
      "execution_count": null,
      "outputs": [
        {
          "output_type": "display_data",
          "data": {
            "text/plain": [
              "<Figure size 500x500 with 3 Axes>"
            ],
            "image/png": "[encoded data removed]"
          },
          "metadata": {}
        }
      ]
    },
    {
      "cell_type": "code",
      "source": [
        "sns.distplot(df['Newspaper'])\n"
      ],
      "metadata": {
        "colab": {
          "base_uri": "https://localhost:8080/",
          "height": 657
        },
        "id": "H44Ly1BI69U0",
        "outputId": "42eccee2-ff51-42de-e5a8-51a46aec25fb"
      },
      "execution_count": null,
      "outputs": [
        {
          "output_type": "stream",
          "name": "stderr",
          "text": [
            "<ipython-input-10-6fe4fcc6000a>:1: UserWarning: \n",
            "\n",
            "`distplot` is a deprecated function and will be removed in seaborn v0.14.0.\n",
            "\n",
            "Please adapt your code to use either `displot` (a figure-level function with\n",
            "similar flexibility) or `histplot` (an axes-level function for histograms).\n",
            "\n",
            "For a guide to updating your code to use the new functions, please see\n",
            "https://gist.github.com/mwaskom/de44147ed2974457ad6372750bbe5751\n",
            "\n",
            "  sns.distplot(df['Newspaper'])\n"
          ]
        },
        {
          "output_type": "execute_result",
          "data": {
            "text/plain": [
              "<Axes: xlabel='Newspaper', ylabel='Density'>"
            ]
          },
          "metadata": {},
          "execution_count": 10
        },
        {
          "output_type": "display_data",
          "data": {
            "text/plain": [
              "<Figure size 640x480 with 1 Axes>"
            ],
            "image/png": "[encoded data removed]"
          },
          "metadata": {}
        }
      ]
    },
    {
      "cell_type": "code",
      "source": [
        "iqr = df.Newspaper.quantile(0.75) - df.Newspaper.quantile(0.25)\n"
      ],
      "metadata": {
        "id": "LhchucH57ANO"
      },
      "execution_count": null,
      "outputs": []
    },
    {
      "cell_type": "code",
      "source": [
        "data = df.copy()"
      ],
      "metadata": {
        "id": "LMUrtZJx7CKM"
      },
      "execution_count": null,
      "outputs": []
    },
    {
      "cell_type": "code",
      "source": [
        "data.loc[data['Newspaper']>=93, 'Newspaper']=93"
      ],
      "metadata": {
        "id": "FEgAtOiz7EQU"
      },
      "execution_count": null,
      "outputs": []
    },
    {
      "cell_type": "code",
      "source": [
        "sns.boxplot(data['Newspaper'])\n"
      ],
      "metadata": {
        "colab": {
          "base_uri": "https://localhost:8080/",
          "height": 447
        },
        "id": "iVZb2gBz7HLj",
        "outputId": "3e9e8cc0-821c-457d-83ba-1099050f9c11"
      },
      "execution_count": null,
      "outputs": [
        {
          "output_type": "execute_result",
          "data": {
            "text/plain": [
              "<Axes: >"
            ]
          },
          "metadata": {},
          "execution_count": 17
        },
        {
          "output_type": "display_data",
          "data": {
            "text/plain": [
              "<Figure size 640x480 with 1 Axes>"
            ],
            "image/png": "[encoded data removed]"
          },
          "metadata": {}
        }
      ]
    },
    {
      "cell_type": "code",
      "source": [
        "sns.boxplot(data['Sales']);"
      ],
      "metadata": {
        "colab": {
          "base_uri": "https://localhost:8080/",
          "height": 430
        },
        "id": "fi-OOQmi7KaF",
        "outputId": "29eb44cc-b640-488a-d0e7-505ad16c3e11"
      },
      "execution_count": null,
      "outputs": [
        {
          "output_type": "display_data",
          "data": {
            "text/plain": [
              "<Figure size 640x480 with 1 Axes>"
            ],
            "image/png": "[encoded data removed]"
          },
          "metadata": {}
        }
      ]
    },
    {
      "cell_type": "code",
      "source": [
        "sns.pairplot(data, x_vars=['TV', 'Newspaper', 'Radio'],\n",
        "            y_vars='Sales', height=4, aspect=1, kind='scatter')\n",
        "plt.show()"
      ],
      "metadata": {
        "colab": {
          "base_uri": "https://localhost:8080/",
          "height": 306
        },
        "id": "EaTGHNsJ7Oxx",
        "outputId": "545b9ea6-71ae-4a79-f7a6-186802c6acf8"
      },
      "execution_count": null,
      "outputs": [
        {
          "output_type": "display_data",
          "data": {
            "text/plain": [
              "<Figure size 1200x400 with 3 Axes>"
            ],
            "image/png": "[encoded data removed]"
          },
          "metadata": {}
        }
      ]
    },
    {
      "cell_type": "code",
      "source": [
        "\n",
        "sns.heatmap(data.corr(), cmap=\"YlGnBu\", annot = True)\n",
        "plt.show()"
      ],
      "metadata": {
        "colab": {
          "base_uri": "https://localhost:8080/",
          "height": 435
        },
        "id": "5Tz7xiUX7Suo",
        "outputId": "7b227b1a-c477-475d-f760-ae472ab85931"
      },
      "execution_count": null,
      "outputs": [
        {
          "output_type": "display_data",
          "data": {
            "text/plain": [
              "<Figure size 640x480 with 2 Axes>"
            ],
            "image/png": "[encoded data removed]"
          },
          "metadata": {}
        }
      ]
    },
    {
      "cell_type": "code",
      "source": [
        "important_features = list(df.corr()['Sales'][(df.corr()['Sales']>+0.5)|(df.corr()['Sales']<-0.5)].index)\n"
      ],
      "metadata": {
        "id": "qbJJK6sy7U5t"
      },
      "execution_count": null,
      "outputs": []
    },
    {
      "cell_type": "code",
      "source": [
        "print(important_features)\n"
      ],
      "metadata": {
        "colab": {
          "base_uri": "https://localhost:8080/"
        },
        "id": "A5YQ9UEA7W9d",
        "outputId": "84b5b974-a41a-45fb-dddd-8b7f861dd2db"
      },
      "execution_count": null,
      "outputs": [
        {
          "output_type": "stream",
          "name": "stdout",
          "text": [
            "['TV', 'Radio', 'Sales']\n"
          ]
        }
      ]
    },
    {
      "cell_type": "code",
      "source": [
        "X = data['TV']\n",
        "y = data['Sales']"
      ],
      "metadata": {
        "id": "knW_cv9j7bsX"
      },
      "execution_count": null,
      "outputs": []
    },
    {
      "cell_type": "code",
      "source": [
        "X = X.values.reshape(-1,1)\n"
      ],
      "metadata": {
        "id": "RdECnNQu7ej6"
      },
      "execution_count": null,
      "outputs": []
    },
    {
      "cell_type": "code",
      "source": [
        "X\n"
      ],
      "metadata": {
        "colab": {
          "base_uri": "https://localhost:8080/"
        },
        "id": "F84qia-G7hYI",
        "outputId": "9f805c15-fb56-489b-ee5e-4d52f3f14b77"
      },
      "execution_count": null,
      "outputs": [
        {
          "output_type": "execute_result",
          "data": {
            "text/plain": [
              "array([[230.1],\n",
              "       [ 44.5],\n",
              "       [ 17.2],\n",
              "       [151.5],\n",
              "       [180.8],\n",
              "       [  8.7],\n",
              "       [ 57.5],\n",
              "       [120.2],\n",
              "       [  8.6],\n",
              "       [199.8],\n",
              "       [ 66.1],\n",
              "       [214.7],\n",
              "       [ 23.8],\n",
              "       [ 97.5],\n",
              "       [204.1],\n",
              "       [195.4],\n",
              "       [ 67.8],\n",
              "       [281.4],\n",
              "       [ 69.2],\n",
              "       [147.3],\n",
              "       [218.4],\n",
              "       [237.4],\n",
              "       [ 13.2],\n",
              "       [228.3],\n",
              "       [ 62.3],\n",
              "       [262.9],\n",
              "       [142.9],\n",
              "       [240.1],\n",
              "       [248.8],\n",
              "       [ 70.6],\n",
              "       [292.9],\n",
              "       [112.9],\n",
              "       [ 97.2],\n",
              "       [265.6],\n",
              "       [ 95.7],\n",
              "       [290.7],\n",
              "       [266.9],\n",
              "       [ 74.7],\n",
              "       [ 43.1],\n",
              "       [228. ],\n",
              "       [202.5],\n",
              "       [177. ],\n",
              "       [293.6],\n",
              "       [206.9],\n",
              "       [ 25.1],\n",
              "       [175.1],\n",
              "       [ 89.7],\n",
              "       [239.9],\n",
              "       [227.2],\n",
              "       [ 66.9],\n",
              "       [199.8],\n",
              "       [100.4],\n",
              "       [216.4],\n",
              "       [182.6],\n",
              "       [262.7],\n",
              "       [198.9],\n",
              "       [  7.3],\n",
              "       [136.2],\n",
              "       [210.8],\n",
              "       [210.7],\n",
              "       [ 53.5],\n",
              "       [261.3],\n",
              "       [239.3],\n",
              "       [102.7],\n",
              "       [131.1],\n",
              "       [ 69. ],\n",
              "       [ 31.5],\n",
              "       [139.3],\n",
              "       [237.4],\n",
              "       [216.8],\n",
              "       [199.1],\n",
              "       [109.8],\n",
              "       [ 26.8],\n",
              "       [129.4],\n",
              "       [213.4],\n",
              "       [ 16.9],\n",
              "       [ 27.5],\n",
              "       [120.5],\n",
              "       [  5.4],\n",
              "       [116. ],\n",
              "       [ 76.4],\n",
              "       [239.8],\n",
              "       [ 75.3],\n",
              "       [ 68.4],\n",
              "       [213.5],\n",
              "       [193.2],\n",
              "       [ 76.3],\n",
              "       [110.7],\n",
              "       [ 88.3],\n",
              "       [109.8],\n",
              "       [134.3],\n",
              "       [ 28.6],\n",
              "       [217.7],\n",
              "       [250.9],\n",
              "       [107.4],\n",
              "       [163.3],\n",
              "       [197.6],\n",
              "       [184.9],\n",
              "       [289.7],\n",
              "       [135.2],\n",
              "       [222.4],\n",
              "       [296.4],\n",
              "       [280.2],\n",
              "       [187.9],\n",
              "       [238.2],\n",
              "       [137.9],\n",
              "       [ 25. ],\n",
              "       [ 90.4],\n",
              "       [ 13.1],\n",
              "       [255.4],\n",
              "       [225.8],\n",
              "       [241.7],\n",
              "       [175.7],\n",
              "       [209.6],\n",
              "       [ 78.2],\n",
              "       [ 75.1],\n",
              "       [139.2],\n",
              "       [ 76.4],\n",
              "       [125.7],\n",
              "       [ 19.4],\n",
              "       [141.3],\n",
              "       [ 18.8],\n",
              "       [224. ],\n",
              "       [123.1],\n",
              "       [229.5],\n",
              "       [ 87.2],\n",
              "       [  7.8],\n",
              "       [ 80.2],\n",
              "       [220.3],\n",
              "       [ 59.6],\n",
              "       [  0.7],\n",
              "       [265.2],\n",
              "       [  8.4],\n",
              "       [219.8],\n",
              "       [ 36.9],\n",
              "       [ 48.3],\n",
              "       [ 25.6],\n",
              "       [273.7],\n",
              "       [ 43. ],\n",
              "       [184.9],\n",
              "       [ 73.4],\n",
              "       [193.7],\n",
              "       [220.5],\n",
              "       [104.6],\n",
              "       [ 96.2],\n",
              "       [140.3],\n",
              "       [240.1],\n",
              "       [243.2],\n",
              "       [ 38. ],\n",
              "       [ 44.7],\n",
              "       [280.7],\n",
              "       [121. ],\n",
              "       [197.6],\n",
              "       [171.3],\n",
              "       [187.8],\n",
              "       [  4.1],\n",
              "       [ 93.9],\n",
              "       [149.8],\n",
              "       [ 11.7],\n",
              "       [131.7],\n",
              "       [172.5],\n",
              "       [ 85.7],\n",
              "       [188.4],\n",
              "       [163.5],\n",
              "       [117.2],\n",
              "       [234.5],\n",
              "       [ 17.9],\n",
              "       [206.8],\n",
              "       [215.4],\n",
              "       [284.3],\n",
              "       [ 50. ],\n",
              "       [164.5],\n",
              "       [ 19.6],\n",
              "       [168.4],\n",
              "       [222.4],\n",
              "       [276.9],\n",
              "       [248.4],\n",
              "       [170.2],\n",
              "       [276.7],\n",
              "       [165.6],\n",
              "       [156.6],\n",
              "       [218.5],\n",
              "       [ 56.2],\n",
              "       [287.6],\n",
              "       [253.8],\n",
              "       [205. ],\n",
              "       [139.5],\n",
              "       [191.1],\n",
              "       [286. ],\n",
              "       [ 18.7],\n",
              "       [ 39.5],\n",
              "       [ 75.5],\n",
              "       [ 17.2],\n",
              "       [166.8],\n",
              "       [149.7],\n",
              "       [ 38.2],\n",
              "       [ 94.2],\n",
              "       [177. ],\n",
              "       [283.6],\n",
              "       [232.1]])"
            ]
          },
          "metadata": {},
          "execution_count": 25
        }
      ]
    },
    {
      "cell_type": "code",
      "source": [
        "y"
      ],
      "metadata": {
        "colab": {
          "base_uri": "https://localhost:8080/"
        },
        "id": "DBsOipL_7kNq",
        "outputId": "775a1c9a-5a9c-4ded-e61c-467a882be6a4"
      },
      "execution_count": null,
      "outputs": [
        {
          "output_type": "execute_result",
          "data": {
            "text/plain": [
              "0      22.1\n",
              "1      10.4\n",
              "2       9.3\n",
              "3      18.5\n",
              "4      12.9\n",
              "       ... \n",
              "195     7.6\n",
              "196     9.7\n",
              "197    12.8\n",
              "198    25.5\n",
              "199    13.4\n",
              "Name: Sales, Length: 200, dtype: float64"
            ]
          },
          "metadata": {},
          "execution_count": 26
        }
      ]
    },
    {
      "cell_type": "code",
      "source": [
        "print(X.shape,y.shape)\n"
      ],
      "metadata": {
        "colab": {
          "base_uri": "https://localhost:8080/"
        },
        "id": "w9JX48cs7nI6",
        "outputId": "d5d08c0c-3792-4ce7-cc74-da309dc68465"
      },
      "execution_count": null,
      "outputs": [
        {
          "output_type": "stream",
          "name": "stdout",
          "text": [
            "(200, 1) (200,)\n"
          ]
        }
      ]
    },
    {
      "cell_type": "code",
      "source": [
        "from sklearn.model_selection import train_test_split\n",
        "X_train,X_test,y_train,y_test=train_test_split(X,y, test_size=0.33)"
      ],
      "metadata": {
        "id": "uyvfTXW57nO4"
      },
      "execution_count": null,
      "outputs": []
    },
    {
      "cell_type": "code",
      "source": [
        "print(X_train.shape,y_train.shape)"
      ],
      "metadata": {
        "colab": {
          "base_uri": "https://localhost:8080/"
        },
        "id": "peQ28zbU7uUx",
        "outputId": "5bf39b04-ab05-4bc0-8de5-ee278c91ff78"
      },
      "execution_count": null,
      "outputs": [
        {
          "output_type": "stream",
          "name": "stdout",
          "text": [
            "(134, 1) (134,)\n"
          ]
        }
      ]
    },
    {
      "cell_type": "code",
      "source": [
        "from sklearn.metrics import  mean_squared_error , r2_score\n",
        "from sklearn.model_selection import cross_val_score,GridSearchCV\n",
        "from sklearn.neighbors import KNeighborsRegressor\n",
        "from sklearn.svm import SVR\n",
        "from sklearn.tree import DecisionTreeRegressor\n",
        "from sklearn.ensemble import RandomForestRegressor"
      ],
      "metadata": {
        "id": "SB_d05R676ok"
      },
      "execution_count": null,
      "outputs": []
    },
    {
      "cell_type": "code",
      "source": [
        "knn = KNeighborsRegressor().fit(X_train, y_train)\n",
        "knn"
      ],
      "metadata": {
        "colab": {
          "base_uri": "https://localhost:8080/",
          "height": 74
        },
        "id": "ingM7tyB7-CO",
        "outputId": "e3ee2927-f8a1-4034-ff20-11fd83edd9a1"
      },
      "execution_count": null,
      "outputs": [
        {
          "output_type": "execute_result",
          "data": {
            "text/plain": [
              "KNeighborsRegressor()"
            ],
            "text/html": [
              "<style>#sk-container-id-1 {color: black;background-color: white;}#sk-container-id-1 pre{padding: 0;}#sk-container-id-1 div.sk-toggleable {background-color: white;}#sk-container-id-1 label.sk-toggleable__label {cursor: pointer;display: block;width: 100%;margin-bottom: 0;padding: 0.3em;box-sizing: border-box;text-align: center;}#sk-container-id-1 label.sk-toggleable__label-arrow:before {content: \"▸\";float: left;margin-right: 0.25em;color: #696969;}#sk-container-id-1 label.sk-toggleable__label-arrow:hover:before {color: black;}#sk-container-id-1 div.sk-estimator:hover label.sk-toggleable__label-arrow:before {color: black;}#sk-container-id-1 div.sk-toggleable__content {max-height: 0;max-width: 0;overflow: hidden;text-align: left;background-color: #f0f8ff;}#sk-container-id-1 div.sk-toggleable__content pre {margin: 0.2em;color: black;border-radius: 0.25em;background-color: #f0f8ff;}#sk-container-id-1 input.sk-toggleable__control:checked~div.sk-toggleable__content {max-height: 200px;max-width: 100%;overflow: auto;}#sk-container-id-1 input.sk-toggleable__control:checked~label.sk-toggleable__label-arrow:before {content: \"▾\";}#sk-container-id-1 div.sk-estimator input.sk-toggleable__control:checked~label.sk-toggleable__label {background-color: #d4ebff;}#sk-container-id-1 div.sk-label input.sk-toggleable__control:checked~label.sk-toggleable__label {background-color: #d4ebff;}#sk-container-id-1 input.sk-hidden--visually {border: 0;clip: rect(1px 1px 1px 1px);clip: rect(1px, 1px, 1px, 1px);height: 1px;margin: -1px;overflow: hidden;padding: 0;position: absolute;width: 1px;}#sk-container-id-1 div.sk-estimator {font-family: monospace;background-color: #f0f8ff;border: 1px dotted black;border-radius: 0.25em;box-sizing: border-box;margin-bottom: 0.5em;}#sk-container-id-1 div.sk-estimator:hover {background-color: #d4ebff;}#sk-container-id-1 div.sk-parallel-item::after {content: \"\";width: 100%;border-bottom: 1px solid gray;flex-grow: 1;}#sk-container-id-1 div.sk-label:hover label.sk-toggleable__label {background-color: #d4ebff;}#sk-container-id-1 div.sk-serial::before {content: \"\";position: absolute;border-left: 1px solid gray;box-sizing: border-box;top: 0;bottom: 0;left: 50%;z-index: 0;}#sk-container-id-1 div.sk-serial {display: flex;flex-direction: column;align-items: center;background-color: white;padding-right: 0.2em;padding-left: 0.2em;position: relative;}#sk-container-id-1 div.sk-item {position: relative;z-index: 1;}#sk-container-id-1 div.sk-parallel {display: flex;align-items: stretch;justify-content: center;background-color: white;position: relative;}#sk-container-id-1 div.sk-item::before, #sk-container-id-1 div.sk-parallel-item::before {content: \"\";position: absolute;border-left: 1px solid gray;box-sizing: border-box;top: 0;bottom: 0;left: 50%;z-index: -1;}#sk-container-id-1 div.sk-parallel-item {display: flex;flex-direction: column;z-index: 1;position: relative;background-color: white;}#sk-container-id-1 div.sk-parallel-item:first-child::after {align-self: flex-end;width: 50%;}#sk-container-id-1 div.sk-parallel-item:last-child::after {align-self: flex-start;width: 50%;}#sk-container-id-1 div.sk-parallel-item:only-child::after {width: 0;}#sk-container-id-1 div.sk-dashed-wrapped {border: 1px dashed gray;margin: 0 0.4em 0.5em 0.4em;box-sizing: border-box;padding-bottom: 0.4em;background-color: white;}#sk-container-id-1 div.sk-label label {font-family: monospace;font-weight: bold;display: inline-block;line-height: 1.2em;}#sk-container-id-1 div.sk-label-container {text-align: center;}#sk-container-id-1 div.sk-container {/* jupyter's `normalize.less` sets `[hidden] { display: none; }` but bootstrap.min.css set `[hidden] { display: none !important; }` so we also need the `!important` here to be able to override the default hidden behavior on the sphinx rendered scikit-learn.org. See: https://github.com/scikit-learn/scikit-learn/issues/21755 */display: inline-block !important;position: relative;}#sk-container-id-1 div.sk-text-repr-fallback {display: none;}</style><div id=\"sk-container-id-1\" class=\"sk-top-container\"><div class=\"sk-text-repr-fallback\"><pre>KNeighborsRegressor()</pre><b>In a Jupyter environment, please rerun this cell to show the HTML representation or trust the notebook. <br />On GitHub, the HTML representation is unable to render, please try loading this page with nbviewer.org.</b></div><div class=\"sk-container\" hidden><div class=\"sk-item\"><div class=\"sk-estimator sk-toggleable\"><input class=\"sk-toggleable__control sk-hidden--visually\" id=\"sk-estimator-id-1\" type=\"checkbox\" checked><label for=\"sk-estimator-id-1\" class=\"sk-toggleable__label sk-toggleable__label-arrow\">KNeighborsRegressor</label><div class=\"sk-toggleable__content\"><pre>KNeighborsRegressor()</pre></div></div></div></div></div>"
            ]
          },
          "metadata": {},
          "execution_count": 31
        }
      ]
    },
    {
      "cell_type": "code",
      "source": [
        "knn_train_pred = knn.predict(X_train)\n"
      ],
      "metadata": {
        "id": "r_QVCLFj8BU6"
      },
      "execution_count": null,
      "outputs": []
    },
    {
      "cell_type": "code",
      "source": [
        "knn_test_pred = knn.predict(X_test)"
      ],
      "metadata": {
        "id": "LQLJ35NA8DCC"
      },
      "execution_count": null,
      "outputs": []
    },
    {
      "cell_type": "code",
      "source": [
        "print(knn_train_pred, knn_test_pred)"
      ],
      "metadata": {
        "colab": {
          "base_uri": "https://localhost:8080/"
        },
        "id": "im8KQmDK8H9H",
        "outputId": "056c1c9b-d533-4001-ce72-d52419d63e2c"
      },
      "execution_count": null,
      "outputs": [
        {
          "output_type": "stream",
          "name": "stdout",
          "text": [
            "[17.24 17.62 13.7  16.12  8.74 13.76  7.9  13.38 12.68 11.24 18.52  6.28\n",
            " 16.66 13.7  13.38 18.72  8.9   6.28 14.82 11.1   7.26 16.74 16.2  18.3\n",
            " 18.14 18.3   7.26 12.68 13.84 17.72 19.88 17.64  9.6  14.98 16.44 16.06\n",
            " 18.3  18.3  15.48 13.   11.48 16.12  9.34 15.92 19.42 20.58 11.28  8.74\n",
            " 19.28  7.9  10.48 13.7   9.98 16.06  9.98 12.68 16.02 16.56 11.04 18.02\n",
            " 17.28  7.26 16.06 11.48 15.24 17.64 13.58 19.16 13.58 11.48 14.36 18.9\n",
            " 18.32 19.58 16.02 17.64 15.52 18.3   7.9  18.52 13.7   7.18  6.9  16.28\n",
            " 14.82 10.66 20.58  7.18  9.98 17.62 18.78 13.2  11.48 14.36 19.38 12.36\n",
            " 14.86 13.34  9.32 14.6  19.16 16.74 15.9  18.02 18.02 16.06  7.18 11.1\n",
            " 18.3  14.66 18.14 16.02 20.58 19.76  9.6  14.66  9.98 19.28 19.38 12.36\n",
            "  9.6  16.12 16.06  6.28 16.12 16.56 13.76  7.18 15.76 13.4  16.42 12.68\n",
            " 14.44 20.26] [16.74  8.96 18.5   7.9  13.38 11.28 17.64 18.52 17.98 13.96 12.36  7.9\n",
            " 10.66  7.9  18.3   7.9   6.28  8.9  15.82 14.98 19.58  6.9  18.02 12.68\n",
            "  8.9  18.32 11.48  7.26 13.22  9.12 12.68  8.74 11.24  6.28  6.4  11.96\n",
            " 16.56 14.86 16.28 14.44 12.7   6.28 10.66 11.48 17.98  8.74  6.28 11.48\n",
            " 11.02  6.28 12.36 11.48 15.84 11.28 13.78 13.76  8.9  16.66 17.24 16.2\n",
            " 17.7  13.34 12.68 20.26 18.02 17.28]\n"
          ]
        }
      ]
    },
    {
      "cell_type": "code",
      "source": [
        "Results = pd.DataFrame(columns=[\"Model\",\"Train R2\",\"Test R2\",\"Test RMSE\",\"Variance\"])"
      ],
      "metadata": {
        "id": "FNX0rTXx8IAk"
      },
      "execution_count": null,
      "outputs": []
    },
    {
      "cell_type": "code",
      "source": [
        "r2 = r2_score(y_test,knn_test_pred)\n",
        "r2_train = r2_score(y_train,knn_train_pred)\n",
        "rmse = np.sqrt(mean_squared_error(y_test,knn_test_pred))\n",
        "variance = r2_train - r2\n",
        "Results = Results.append({\"Model\":\"K-Nearest Neighbors\",\"Train R2\":r2_train,\"Test R2\":r2,\"Test RMSE\":rmse,\"Variance\":variance},ignore_index=True)\n",
        "print(\"R2:\",r2)\n",
        "print(\"RMSE:\",rmse)"
      ],
      "metadata": {
        "colab": {
          "base_uri": "https://localhost:8080/"
        },
        "id": "DF9J-xh08lm-",
        "outputId": "d4a2db46-39ca-4428-9c01-5d96dc29664e"
      },
      "execution_count": null,
      "outputs": [
        {
          "output_type": "stream",
          "name": "stdout",
          "text": [
            "R2: 0.6592710378426669\n",
            "RMSE: 3.2929152599316773\n"
          ]
        },
        {
          "output_type": "stream",
          "name": "stderr",
          "text": [
            "<ipython-input-39-75cbb9d6b8eb>:5: FutureWarning: The frame.append method is deprecated and will be removed from pandas in a future version. Use pandas.concat instead.\n",
            "  Results = Results.append({\"Model\":\"K-Nearest Neighbors\",\"Train R2\":r2_train,\"Test R2\":r2,\"Test RMSE\":rmse,\"Variance\":variance},ignore_index=True)\n"
          ]
        }
      ]
    },
    {
      "cell_type": "code",
      "source": [
        "Results.head()"
      ],
      "metadata": {
        "colab": {
          "base_uri": "https://localhost:8080/",
          "height": 80
        },
        "id": "MASFfSfJ8Oy4",
        "outputId": "e641ad81-d34e-4a22-97da-b34f4e6d3894"
      },
      "execution_count": null,
      "outputs": [
        {
          "output_type": "execute_result",
          "data": {
            "text/plain": [
              "                 Model  Train R2   Test R2  Test RMSE  Variance\n",
              "0  K-Nearest Neighbors  0.575544  0.659271   3.292915 -0.083727"
            ],
            "text/html": [
              "\n",
              "  <div id=\"df-03e64248-ecf5-49aa-9999-d4e915567e18\" class=\"colab-df-container\">\n",
              "    <div>\n",
              "<style scoped>\n",
              "    .dataframe tbody tr th:only-of-type {\n",
              "        vertical-align: middle;\n",
              "    }\n",
              "\n",
              "    .dataframe tbody tr th {\n",
              "        vertical-align: top;\n",
              "    }\n",
              "\n",
              "    .dataframe thead th {\n",
              "        text-align: right;\n",
              "    }\n",
              "</style>\n",
              "<table border=\"1\" class=\"dataframe\">\n",
              "  <thead>\n",
              "    <tr style=\"text-align: right;\">\n",
              "      <th></th>\n",
              "      <th>Model</th>\n",
              "      <th>Train R2</th>\n",
              "      <th>Test R2</th>\n",
              "      <th>Test RMSE</th>\n",
              "      <th>Variance</th>\n",
              "    </tr>\n",
              "  </thead>\n",
              "  <tbody>\n",
              "    <tr>\n",
              "      <th>0</th>\n",
              "      <td>K-Nearest Neighbors</td>\n",
              "      <td>0.575544</td>\n",
              "      <td>0.659271</td>\n",
              "      <td>3.292915</td>\n",
              "      <td>-0.083727</td>\n",
              "    </tr>\n",
              "  </tbody>\n",
              "</table>\n",
              "</div>\n",
              "    <div class=\"colab-df-buttons\">\n",
              "\n",
              "  <div class=\"colab-df-container\">\n",
              "    <button class=\"colab-df-convert\" onclick=\"convertToInteractive('df-03e64248-ecf5-49aa-9999-d4e915567e18')\"\n",
              "            title=\"Convert this dataframe to an interactive table.\"\n",
              "            style=\"display:none;\">\n",
              "\n",
              "  <svg xmlns=\"http://www.w3.org/2000/svg\" height=\"24px\" viewBox=\"0 -960 960 960\">\n",
              "    <path d=\"M120-120v-720h720v720H120Zm60-500h600v-160H180v160Zm220 220h160v-160H400v160Zm0 220h160v-160H400v160ZM180-400h160v-160H180v160Zm440 0h160v-160H620v160ZM180-180h160v-160H180v160Zm440 0h160v-160H620v160Z\"/>\n",
              "  </svg>\n",
              "    </button>\n",
              "\n",
              "  <style>\n",
              "    .colab-df-container {\n",
              "      display:flex;\n",
              "      gap: 12px;\n",
              "    }\n",
              "\n",
              "    .colab-df-convert {\n",
              "      background-color: #E8F0FE;\n",
              "      border: none;\n",
              "      border-radius: 50%;\n",
              "      cursor: pointer;\n",
              "      display: none;\n",
              "      fill: #1967D2;\n",
              "      height: 32px;\n",
              "      padding: 0 0 0 0;\n",
              "      width: 32px;\n",
              "    }\n",
              "\n",
              "    .colab-df-convert:hover {\n",
              "      background-color: #E2EBFA;\n",
              "      box-shadow: 0px 1px 2px rgba(60, 64, 67, 0.3), 0px 1px 3px 1px rgba(60, 64, 67, 0.15);\n",
              "      fill: #174EA6;\n",
              "    }\n",
              "\n",
              "    .colab-df-buttons div {\n",
              "      margin-bottom: 4px;\n",
              "    }\n",
              "\n",
              "    [theme=dark] .colab-df-convert {\n",
              "      background-color: #3B4455;\n",
              "      fill: #D2E3FC;\n",
              "    }\n",
              "\n",
              "    [theme=dark] .colab-df-convert:hover {\n",
              "      background-color: #434B5C;\n",
              "      box-shadow: 0px 1px 3px 1px rgba(0, 0, 0, 0.15);\n",
              "      filter: drop-shadow(0px 1px 2px rgba(0, 0, 0, 0.3));\n",
              "      fill: #FFFFFF;\n",
              "    }\n",
              "  </style>\n",
              "\n",
              "    <script>\n",
              "      const buttonEl =\n",
              "        document.querySelector('#df-03e64248-ecf5-49aa-9999-d4e915567e18 button.colab-df-convert');\n",
              "      buttonEl.style.display =\n",
              "        google.colab.kernel.accessAllowed ? 'block' : 'none';\n",
              "\n",
              "      async function convertToInteractive(key) {\n",
              "        const element = document.querySelector('#df-03e64248-ecf5-49aa-9999-d4e915567e18');\n",
              "        const dataTable =\n",
              "          await google.colab.kernel.invokeFunction('convertToInteractive',\n",
              "                                                    [key], {});\n",
              "        if (!dataTable) return;\n",
              "\n",
              "        const docLinkHtml = 'Like what you see? Visit the ' +\n",
              "          '<a target=\"_blank\" href=https://colab.research.google.com/notebooks/data_table.ipynb>data table notebook</a>'\n",
              "          + ' to learn more about interactive tables.';\n",
              "        element.innerHTML = '';\n",
              "        dataTable['output_type'] = 'display_data';\n",
              "        await google.colab.output.renderOutput(dataTable, element);\n",
              "        const docLink = document.createElement('div');\n",
              "        docLink.innerHTML = docLinkHtml;\n",
              "        element.appendChild(docLink);\n",
              "      }\n",
              "    </script>\n",
              "  </div>\n",
              "\n",
              "    </div>\n",
              "  </div>\n"
            ]
          },
          "metadata": {},
          "execution_count": 40
        }
      ]
    },
    {
      "cell_type": "code",
      "source": [
        "svr = SVR().fit(X_train,y_train)\n",
        "svr"
      ],
      "metadata": {
        "colab": {
          "base_uri": "https://localhost:8080/",
          "height": 74
        },
        "id": "UTdbddlS8V7H",
        "outputId": "eff0c77b-079c-4764-b50e-b04e2a8c5e5a"
      },
      "execution_count": null,
      "outputs": [
        {
          "output_type": "execute_result",
          "data": {
            "text/plain": [
              "SVR()"
            ],
            "text/html": [
              "<style>#sk-container-id-2 {color: black;background-color: white;}#sk-container-id-2 pre{padding: 0;}#sk-container-id-2 div.sk-toggleable {background-color: white;}#sk-container-id-2 label.sk-toggleable__label {cursor: pointer;display: block;width: 100%;margin-bottom: 0;padding: 0.3em;box-sizing: border-box;text-align: center;}#sk-container-id-2 label.sk-toggleable__label-arrow:before {content: \"▸\";float: left;margin-right: 0.25em;color: #696969;}#sk-container-id-2 label.sk-toggleable__label-arrow:hover:before {color: black;}#sk-container-id-2 div.sk-estimator:hover label.sk-toggleable__label-arrow:before {color: black;}#sk-container-id-2 div.sk-toggleable__content {max-height: 0;max-width: 0;overflow: hidden;text-align: left;background-color: #f0f8ff;}#sk-container-id-2 div.sk-toggleable__content pre {margin: 0.2em;color: black;border-radius: 0.25em;background-color: #f0f8ff;}#sk-container-id-2 input.sk-toggleable__control:checked~div.sk-toggleable__content {max-height: 200px;max-width: 100%;overflow: auto;}#sk-container-id-2 input.sk-toggleable__control:checked~label.sk-toggleable__label-arrow:before {content: \"▾\";}#sk-container-id-2 div.sk-estimator input.sk-toggleable__control:checked~label.sk-toggleable__label {background-color: #d4ebff;}#sk-container-id-2 div.sk-label input.sk-toggleable__control:checked~label.sk-toggleable__label {background-color: #d4ebff;}#sk-container-id-2 input.sk-hidden--visually {border: 0;clip: rect(1px 1px 1px 1px);clip: rect(1px, 1px, 1px, 1px);height: 1px;margin: -1px;overflow: hidden;padding: 0;position: absolute;width: 1px;}#sk-container-id-2 div.sk-estimator {font-family: monospace;background-color: #f0f8ff;border: 1px dotted black;border-radius: 0.25em;box-sizing: border-box;margin-bottom: 0.5em;}#sk-container-id-2 div.sk-estimator:hover {background-color: #d4ebff;}#sk-container-id-2 div.sk-parallel-item::after {content: \"\";width: 100%;border-bottom: 1px solid gray;flex-grow: 1;}#sk-container-id-2 div.sk-label:hover label.sk-toggleable__label {background-color: #d4ebff;}#sk-container-id-2 div.sk-serial::before {content: \"\";position: absolute;border-left: 1px solid gray;box-sizing: border-box;top: 0;bottom: 0;left: 50%;z-index: 0;}#sk-container-id-2 div.sk-serial {display: flex;flex-direction: column;align-items: center;background-color: white;padding-right: 0.2em;padding-left: 0.2em;position: relative;}#sk-container-id-2 div.sk-item {position: relative;z-index: 1;}#sk-container-id-2 div.sk-parallel {display: flex;align-items: stretch;justify-content: center;background-color: white;position: relative;}#sk-container-id-2 div.sk-item::before, #sk-container-id-2 div.sk-parallel-item::before {content: \"\";position: absolute;border-left: 1px solid gray;box-sizing: border-box;top: 0;bottom: 0;left: 50%;z-index: -1;}#sk-container-id-2 div.sk-parallel-item {display: flex;flex-direction: column;z-index: 1;position: relative;background-color: white;}#sk-container-id-2 div.sk-parallel-item:first-child::after {align-self: flex-end;width: 50%;}#sk-container-id-2 div.sk-parallel-item:last-child::after {align-self: flex-start;width: 50%;}#sk-container-id-2 div.sk-parallel-item:only-child::after {width: 0;}#sk-container-id-2 div.sk-dashed-wrapped {border: 1px dashed gray;margin: 0 0.4em 0.5em 0.4em;box-sizing: border-box;padding-bottom: 0.4em;background-color: white;}#sk-container-id-2 div.sk-label label {font-family: monospace;font-weight: bold;display: inline-block;line-height: 1.2em;}#sk-container-id-2 div.sk-label-container {text-align: center;}#sk-container-id-2 div.sk-container {/* jupyter's `normalize.less` sets `[hidden] { display: none; }` but bootstrap.min.css set `[hidden] { display: none !important; }` so we also need the `!important` here to be able to override the default hidden behavior on the sphinx rendered scikit-learn.org. See: https://github.com/scikit-learn/scikit-learn/issues/21755 */display: inline-block !important;position: relative;}#sk-container-id-2 div.sk-text-repr-fallback {display: none;}</style><div id=\"sk-container-id-2\" class=\"sk-top-container\"><div class=\"sk-text-repr-fallback\"><pre>SVR()</pre><b>In a Jupyter environment, please rerun this cell to show the HTML representation or trust the notebook. <br />On GitHub, the HTML representation is unable to render, please try loading this page with nbviewer.org.</b></div><div class=\"sk-container\" hidden><div class=\"sk-item\"><div class=\"sk-estimator sk-toggleable\"><input class=\"sk-toggleable__control sk-hidden--visually\" id=\"sk-estimator-id-2\" type=\"checkbox\" checked><label for=\"sk-estimator-id-2\" class=\"sk-toggleable__label sk-toggleable__label-arrow\">SVR</label><div class=\"sk-toggleable__content\"><pre>SVR()</pre></div></div></div></div></div>"
            ]
          },
          "metadata": {},
          "execution_count": 42
        }
      ]
    },
    {
      "cell_type": "code",
      "source": [
        "svr_train_pred = svr.predict(X_train)\n",
        "svr_test_pred = svr.predict(X_test)"
      ],
      "metadata": {
        "id": "6jYIbGp_8t5L"
      },
      "execution_count": null,
      "outputs": []
    },
    {
      "cell_type": "code",
      "source": [
        "print(svr_train_pred,svr_test_pred)\n"
      ],
      "metadata": {
        "colab": {
          "base_uri": "https://localhost:8080/"
        },
        "id": "gl9Lp7em8zGU",
        "outputId": "794f5072-3669-4a6a-e05f-6d9b9370f65d"
      },
      "execution_count": null,
      "outputs": [
        {
          "output_type": "stream",
          "name": "stdout",
          "text": [
            "[17.27696725 16.86026059 12.071715   16.51069019  8.50120511 12.52070096\n",
            "  7.90935338 13.80168179 13.29508341 10.06536703 16.37937376  7.52738184\n",
            " 17.00529248 12.071715   13.89378827 15.95556177  8.67875651  7.51447889\n",
            " 15.0602163  11.39725253  7.6685854  15.93660668 17.32014875 17.40377833\n",
            " 16.22631453 17.42313416  7.68469966 13.34574037 12.96318549 17.4354404\n",
            " 17.19108913 15.4649661   9.40551019 16.78323925 16.11566283 17.43057346\n",
            " 17.23494388 17.39467355 17.44232865 11.85917755 10.53617183 16.52018746\n",
            "  9.25223245 14.92686803 16.3390407  17.31847004 10.22134166  8.43765587\n",
            " 17.13145506  7.892251    9.75389493 12.10801802 11.50010821 17.42535259\n",
            " 11.47793365 13.29966626 17.43624337 14.73112361 11.77994439 16.84583432\n",
            " 17.41216596  7.66190925 17.42741824 10.48815418 17.34875711 15.59709919\n",
            " 12.71174882 16.16853794 12.60558778 10.63119487 15.32174932 17.21480545\n",
            " 16.44811239 17.09158619 17.4392622  15.73425299 15.54144397 17.23247541\n",
            "  8.01874635 16.22314493 12.19637497  7.72173082  7.58952194 15.77496795\n",
            " 14.99057748 10.37487088 17.2683502   7.70651231 11.55729799 16.85630739\n",
            " 17.26575421 13.11528849 10.46670826 15.32174932 16.0673108  11.20351779\n",
            " 14.54358774 11.0114729   9.05605558 17.37644974 16.20044939 15.96958409\n",
            " 16.67598907 16.9275418  16.93442702 17.42674404  7.72692294 11.41079385\n",
            " 17.41827626 15.24622943 16.25223481 17.4392622  17.31098414 17.18019123\n",
            "  9.47966351 15.2113487  11.54415882 17.15199429 16.03484225 11.13715559\n",
            "  9.59966758 16.55314666 17.42535259  7.5239047  16.55314666 14.60010849\n",
            " 12.50057735  7.70402831 14.16280262 11.97429355 16.78260269 13.30884529\n",
            " 12.86555833 17.15895435] [15.94211493  8.37554793 16.5088813   7.8888704  13.80675868 10.14363018\n",
            " 15.6301999  16.37058412 15.78150638 13.68126762 11.23635875  7.95173584\n",
            " 10.01479419  7.84935429 17.40694664  7.97731344  7.53380656  8.75740347\n",
            " 15.64455529 16.74538165 17.09473182  7.59113348 16.83116598 13.39226693\n",
            "  8.6839555  16.44811239 10.53085287  7.6685854  12.32035535  8.96225856\n",
            " 13.23590576  8.42800474 10.09897181  7.51149144  7.56865248 10.73512486\n",
            " 14.66260165 14.53231891 15.77496795 12.93755137 13.46766899  7.53468406\n",
            "  9.96968703 10.44519922 15.8804943   8.13492809  7.53210112 10.47743917\n",
            " 11.68259729  7.5169705  11.08437102 10.53617183 14.82297915 10.13248202\n",
            " 12.36831747 12.48851665  8.7679931  17.0018031  17.2813527  17.32014875\n",
            " 16.96260747 13.07573749 13.15961102 17.20057302 16.98159384 17.39652083]\n"
          ]
        }
      ]
    },
    {
      "cell_type": "code",
      "source": [
        "r2 = r2_score(y_test,svr_test_pred)\n",
        "r2_train = r2_score(y_train,svr_train_pred)\n",
        "rmse = np.sqrt(mean_squared_error(y_test,svr_test_pred))\n",
        "variance = r2_train - r2\n",
        "Results = Results.append({\"Model\":\"Support Vector Machine\",\"Train R2\":r2_train,\"Test R2\":r2,\"Test RMSE\":rmse,\"Variance\":variance},ignore_index=True)\n",
        "print(\"R2:\",r2)\n",
        "print(\"RMSE:\",rmse)"
      ],
      "metadata": {
        "colab": {
          "base_uri": "https://localhost:8080/"
        },
        "id": "-hUsMq5o85CX",
        "outputId": "cc63f4fb-e3c3-4bff-ead1-82a6ec0b376e"
      },
      "execution_count": null,
      "outputs": [
        {
          "output_type": "stream",
          "name": "stdout",
          "text": [
            "R2: 0.5851894789156324\n",
            "RMSE: 3.633297090319194\n"
          ]
        },
        {
          "output_type": "stream",
          "name": "stderr",
          "text": [
            "<ipython-input-45-6a30410dba6a>:5: FutureWarning: The frame.append method is deprecated and will be removed from pandas in a future version. Use pandas.concat instead.\n",
            "  Results = Results.append({\"Model\":\"Support Vector Machine\",\"Train R2\":r2_train,\"Test R2\":r2,\"Test RMSE\":rmse,\"Variance\":variance},ignore_index=True)\n"
          ]
        }
      ]
    },
    {
      "cell_type": "code",
      "source": [
        "Results.head()"
      ],
      "metadata": {
        "colab": {
          "base_uri": "https://localhost:8080/",
          "height": 112
        },
        "id": "Fdrajtfq89bO",
        "outputId": "e71f01f9-015a-4e80-b277-15625ddf0c19"
      },
      "execution_count": null,
      "outputs": [
        {
          "output_type": "execute_result",
          "data": {
            "text/plain": [
              "                    Model  Train R2   Test R2  Test RMSE  Variance\n",
              "0     K-Nearest Neighbors  0.575544  0.659271   3.292915 -0.083727\n",
              "1  Support Vector Machine  0.520675  0.585189   3.633297 -0.064514"
            ],
            "text/html": [
              "\n",
              "  <div id=\"df-a5f2b509-e40f-4d8a-82f6-d4371e901f9e\" class=\"colab-df-container\">\n",
              "    <div>\n",
              "<style scoped>\n",
              "    .dataframe tbody tr th:only-of-type {\n",
              "        vertical-align: middle;\n",
              "    }\n",
              "\n",
              "    .dataframe tbody tr th {\n",
              "        vertical-align: top;\n",
              "    }\n",
              "\n",
              "    .dataframe thead th {\n",
              "        text-align: right;\n",
              "    }\n",
              "</style>\n",
              "<table border=\"1\" class=\"dataframe\">\n",
              "  <thead>\n",
              "    <tr style=\"text-align: right;\">\n",
              "      <th></th>\n",
              "      <th>Model</th>\n",
              "      <th>Train R2</th>\n",
              "      <th>Test R2</th>\n",
              "      <th>Test RMSE</th>\n",
              "      <th>Variance</th>\n",
              "    </tr>\n",
              "  </thead>\n",
              "  <tbody>\n",
              "    <tr>\n",
              "      <th>0</th>\n",
              "      <td>K-Nearest Neighbors</td>\n",
              "      <td>0.575544</td>\n",
              "      <td>0.659271</td>\n",
              "      <td>3.292915</td>\n",
              "      <td>-0.083727</td>\n",
              "    </tr>\n",
              "    <tr>\n",
              "      <th>1</th>\n",
              "      <td>Support Vector Machine</td>\n",
              "      <td>0.520675</td>\n",
              "      <td>0.585189</td>\n",
              "      <td>3.633297</td>\n",
              "      <td>-0.064514</td>\n",
              "    </tr>\n",
              "  </tbody>\n",
              "</table>\n",
              "</div>\n",
              "    <div class=\"colab-df-buttons\">\n",
              "\n",
              "  <div class=\"colab-df-container\">\n",
              "    <button class=\"colab-df-convert\" onclick=\"convertToInteractive('df-a5f2b509-e40f-4d8a-82f6-d4371e901f9e')\"\n",
              "            title=\"Convert this dataframe to an interactive table.\"\n",
              "            style=\"display:none;\">\n",
              "\n",
              "  <svg xmlns=\"http://www.w3.org/2000/svg\" height=\"24px\" viewBox=\"0 -960 960 960\">\n",
              "    <path d=\"M120-120v-720h720v720H120Zm60-500h600v-160H180v160Zm220 220h160v-160H400v160Zm0 220h160v-160H400v160ZM180-400h160v-160H180v160Zm440 0h160v-160H620v160ZM180-180h160v-160H180v160Zm440 0h160v-160H620v160Z\"/>\n",
              "  </svg>\n",
              "    </button>\n",
              "\n",
              "  <style>\n",
              "    .colab-df-container {\n",
              "      display:flex;\n",
              "      gap: 12px;\n",
              "    }\n",
              "\n",
              "    .colab-df-convert {\n",
              "      background-color: #E8F0FE;\n",
              "      border: none;\n",
              "      border-radius: 50%;\n",
              "      cursor: pointer;\n",
              "      display: none;\n",
              "      fill: #1967D2;\n",
              "      height: 32px;\n",
              "      padding: 0 0 0 0;\n",
              "      width: 32px;\n",
              "    }\n",
              "\n",
              "    .colab-df-convert:hover {\n",
              "      background-color: #E2EBFA;\n",
              "      box-shadow: 0px 1px 2px rgba(60, 64, 67, 0.3), 0px 1px 3px 1px rgba(60, 64, 67, 0.15);\n",
              "      fill: #174EA6;\n",
              "    }\n",
              "\n",
              "    .colab-df-buttons div {\n",
              "      margin-bottom: 4px;\n",
              "    }\n",
              "\n",
              "    [theme=dark] .colab-df-convert {\n",
              "      background-color: #3B4455;\n",
              "      fill: #D2E3FC;\n",
              "    }\n",
              "\n",
              "    [theme=dark] .colab-df-convert:hover {\n",
              "      background-color: #434B5C;\n",
              "      box-shadow: 0px 1px 3px 1px rgba(0, 0, 0, 0.15);\n",
              "      filter: drop-shadow(0px 1px 2px rgba(0, 0, 0, 0.3));\n",
              "      fill: #FFFFFF;\n",
              "    }\n",
              "  </style>\n",
              "\n",
              "    <script>\n",
              "      const buttonEl =\n",
              "        document.querySelector('#df-a5f2b509-e40f-4d8a-82f6-d4371e901f9e button.colab-df-convert');\n",
              "      buttonEl.style.display =\n",
              "        google.colab.kernel.accessAllowed ? 'block' : 'none';\n",
              "\n",
              "      async function convertToInteractive(key) {\n",
              "        const element = document.querySelector('#df-a5f2b509-e40f-4d8a-82f6-d4371e901f9e');\n",
              "        const dataTable =\n",
              "          await google.colab.kernel.invokeFunction('convertToInteractive',\n",
              "                                                    [key], {});\n",
              "        if (!dataTable) return;\n",
              "\n",
              "        const docLinkHtml = 'Like what you see? Visit the ' +\n",
              "          '<a target=\"_blank\" href=https://colab.research.google.com/notebooks/data_table.ipynb>data table notebook</a>'\n",
              "          + ' to learn more about interactive tables.';\n",
              "        element.innerHTML = '';\n",
              "        dataTable['output_type'] = 'display_data';\n",
              "        await google.colab.output.renderOutput(dataTable, element);\n",
              "        const docLink = document.createElement('div');\n",
              "        docLink.innerHTML = docLinkHtml;\n",
              "        element.appendChild(docLink);\n",
              "      }\n",
              "    </script>\n",
              "  </div>\n",
              "\n",
              "    </div>\n",
              "  </div>\n"
            ]
          },
          "metadata": {},
          "execution_count": 46
        }
      ]
    },
    {
      "cell_type": "code",
      "source": [
        "import statsmodels.api as sm"
      ],
      "metadata": {
        "id": "TUIBNktQ8_lx"
      },
      "execution_count": null,
      "outputs": []
    },
    {
      "cell_type": "code",
      "source": [
        "X_train_constant = sm.add_constant(X_train)"
      ],
      "metadata": {
        "id": "DkbMZlA89Dt2"
      },
      "execution_count": null,
      "outputs": []
    },
    {
      "cell_type": "code",
      "source": [
        "model = sm.OLS(y_train, X_train_constant).fit()"
      ],
      "metadata": {
        "id": "PMWUMVoK9FwU"
      },
      "execution_count": null,
      "outputs": []
    },
    {
      "cell_type": "code",
      "source": [
        "model.params"
      ],
      "metadata": {
        "colab": {
          "base_uri": "https://localhost:8080/"
        },
        "id": "twKbzIlI9Jdz",
        "outputId": "77d5a64a-f32d-40c1-97ab-fe4c682c6345"
      },
      "execution_count": null,
      "outputs": [
        {
          "output_type": "execute_result",
          "data": {
            "text/plain": [
              "const    7.474239\n",
              "x1       0.043586\n",
              "dtype: float64"
            ]
          },
          "metadata": {},
          "execution_count": 50
        }
      ]
    },
    {
      "cell_type": "code",
      "source": [
        "print(model.summary())"
      ],
      "metadata": {
        "colab": {
          "base_uri": "https://localhost:8080/"
        },
        "id": "iDKmmK8V9Ne2",
        "outputId": "5a5e11a0-ae66-42ce-cfd8-1256ae14834d"
      },
      "execution_count": null,
      "outputs": [
        {
          "output_type": "stream",
          "name": "stdout",
          "text": [
            "                            OLS Regression Results                            \n",
            "==============================================================================\n",
            "Dep. Variable:                  Sales   R-squared:                       0.528\n",
            "Model:                            OLS   Adj. R-squared:                  0.525\n",
            "Method:                 Least Squares   F-statistic:                     147.7\n",
            "Date:                Wed, 30 Aug 2023   Prob (F-statistic):           2.81e-23\n",
            "Time:                        10:02:30   Log-Likelihood:                -353.69\n",
            "No. Observations:                 134   AIC:                             711.4\n",
            "Df Residuals:                     132   BIC:                             717.2\n",
            "Df Model:                           1                                         \n",
            "Covariance Type:            nonrobust                                         \n",
            "==============================================================================\n",
            "                 coef    std err          t      P>|t|      [0.025      0.975]\n",
            "------------------------------------------------------------------------------\n",
            "const          7.4742      0.641     11.660      0.000       6.206       8.742\n",
            "x1             0.0436      0.004     12.155      0.000       0.036       0.051\n",
            "==============================================================================\n",
            "Omnibus:                        1.565   Durbin-Watson:                   1.760\n",
            "Prob(Omnibus):                  0.457   Jarque-Bera (JB):                1.315\n",
            "Skew:                           0.055   Prob(JB):                        0.518\n",
            "Kurtosis:                       2.527   Cond. No.                         388.\n",
            "==============================================================================\n",
            "\n",
            "Notes:\n",
            "[1] Standard Errors assume that the covariance matrix of the errors is correctly specified.\n"
          ]
        }
      ]
    },
    {
      "cell_type": "code",
      "source": [
        "plt.scatter(X_train, y_train)\n",
        "plt.plot(X_train, 6.9955 + 0.0541 * X_train, 'y')\n",
        "plt.show()"
      ],
      "metadata": {
        "colab": {
          "base_uri": "https://localhost:8080/",
          "height": 430
        },
        "id": "8xTT3e-h9Q8c",
        "outputId": "2f8d2835-37eb-4aa6-aa9d-5af5f01ebcbd"
      },
      "execution_count": null,
      "outputs": [
        {
          "output_type": "display_data",
          "data": {
            "text/plain": [
              "<Figure size 640x480 with 1 Axes>"
            ],
            "image/png": "[encoded data removed]"
          },
          "metadata": {}
        }
      ]
    },
    {
      "cell_type": "code",
      "source": [
        "y_train_pred = model.predict(X_train_constant)\n",
        "res = (y_train - y_train_pred)\n",
        "res"
      ],
      "metadata": {
        "colab": {
          "base_uri": "https://localhost:8080/"
        },
        "id": "sWpscjnq9Vm8",
        "outputId": "e6227aad-348d-4e30-f1a4-8c704ed319d1"
      },
      "execution_count": null,
      "outputs": [
        {
          "output_type": "execute_result",
          "data": {
            "text/plain": [
              "128    7.623677\n",
              "43    -3.592265\n",
              "71     0.139974\n",
              "55     7.556426\n",
              "190    1.604099\n",
              "         ...   \n",
              "94    -0.655418\n",
              "36     6.292550\n",
              "186   -3.254542\n",
              "73    -2.114319\n",
              "109    1.193794\n",
              "Name: Sales, Length: 134, dtype: float64"
            ]
          },
          "metadata": {},
          "execution_count": 53
        }
      ]
    },
    {
      "cell_type": "code",
      "source": [
        "y_train_pred"
      ],
      "metadata": {
        "colab": {
          "base_uri": "https://localhost:8080/"
        },
        "id": "FmvVLvpi9Xkt",
        "outputId": "388aa403-c594-4cbc-fa75-19b224921107"
      },
      "execution_count": null,
      "outputs": [
        {
          "output_type": "execute_result",
          "data": {
            "text/plain": [
              "array([17.07632314, 16.49226534, 12.26002561, 16.14357412,  9.19590149,\n",
              "       12.74819333,  8.59005049, 13.99912309, 13.54146586, 10.42939669,\n",
              "       19.53459627,  7.81421251, 16.66225231, 12.26002561, 14.07757862,\n",
              "       19.93994981,  9.3484539 ,  7.70960515, 14.99289308, 11.56700181,\n",
              "        8.2239247 , 15.65976504, 17.16785459, 17.41193844, 15.89513162,\n",
              "       17.50346989,  8.25443518, 13.5894109 , 13.21456784, 17.5906427 ,\n",
              "       16.92377073, 20.39324841,  9.92379442, 16.40945118, 15.80360017,\n",
              "       17.9044648 , 16.99786762, 17.37706932, 17.69525006, 12.03337632,\n",
              "       10.80423976, 16.1522914 ,  9.80611113, 14.89264435, 15.99102171,\n",
              "       18.30110106, 10.55143862,  9.13923916, 16.83223928,  8.56825728,\n",
              "       10.18967147, 12.29925338, 11.66725053, 17.93933392, 11.64545733,\n",
              "       13.5458245 , 17.85651975, 14.74445058, 11.95056215, 19.03335263,\n",
              "       18.00907216,  8.21084878, 17.926258  , 10.76501199, 17.23759283,\n",
              "       20.27120648, 12.95304942, 19.73945236, 12.83972477, 10.88269528,\n",
              "       15.18903189, 16.96299849, 16.08691179, 16.77557696, 17.82165063,\n",
              "       20.14480591, 15.35466022, 16.99350898,  8.72080969, 19.68714868,\n",
              "       12.39514346,  8.31981479,  8.04522045, 15.53336448, 14.9405894 ,\n",
              "       10.67348055, 18.41006707,  8.29366295, 11.72391286, 16.4879067 ,\n",
              "       17.05452994, 13.36712025, 10.74757743, 15.18903189, 19.83534245,\n",
              "       11.38393891, 14.60061545, 11.2095933 ,  9.65355872, 17.31604836,\n",
              "       19.70894188, 15.68591689, 16.30048517, 18.93310391, 18.92438663,\n",
              "       17.93061664,  8.32853207, 11.58007773, 17.47731805, 15.13236957,\n",
              "       15.91692482, 17.82165063, 18.31853562, 16.90633617,  9.98045674,\n",
              "       15.10621773, 11.71083694, 16.86274977, 19.86585293, 11.32291795,\n",
              "       10.07198819, 16.18280188, 17.93933392,  7.79241931, 16.18280188,\n",
              "       14.64420186, 12.72640013,  8.28930431, 14.29986927, 12.15541825,\n",
              "       19.10744952, 13.55454178, 13.11431911, 18.60620588])"
            ]
          },
          "metadata": {},
          "execution_count": 54
        }
      ]
    },
    {
      "cell_type": "code",
      "source": [
        "fig = plt.figure()\n",
        "sns.distplot(res, bins = 15)\n",
        "fig.suptitle('Error Terms', fontsize = 15)\n",
        "plt.xlabel('Difference in y_train and y_train_pred', fontsize = 15)\n",
        "plt.show()"
      ],
      "metadata": {
        "colab": {
          "base_uri": "https://localhost:8080/",
          "height": 695
        },
        "id": "ftjIXFY69eG6",
        "outputId": "248e39c3-04b6-45a8-b9e3-1fbde9e2722a"
      },
      "execution_count": null,
      "outputs": [
        {
          "output_type": "stream",
          "name": "stderr",
          "text": [
            "<ipython-input-55-66f56fd38cf4>:2: UserWarning: \n",
            "\n",
            "`distplot` is a deprecated function and will be removed in seaborn v0.14.0.\n",
            "\n",
            "Please adapt your code to use either `displot` (a figure-level function with\n",
            "similar flexibility) or `histplot` (an axes-level function for histograms).\n",
            "\n",
            "For a guide to updating your code to use the new functions, please see\n",
            "https://gist.github.com/mwaskom/de44147ed2974457ad6372750bbe5751\n",
            "\n",
            "  sns.distplot(res, bins = 15)\n"
          ]
        },
        {
          "output_type": "display_data",
          "data": {
            "text/plain": [
              "<Figure size 640x480 with 1 Axes>"
            ],
            "image/png": "[encoded data removed]"
          },
          "metadata": {}
        }
      ]
    },
    {
      "cell_type": "code",
      "source": [
        "plt.scatter(X_train, res)\n",
        "plt.show()"
      ],
      "metadata": {
        "colab": {
          "base_uri": "https://localhost:8080/",
          "height": 430
        },
        "id": "H63uF9O49hoM",
        "outputId": "8f53c6d1-1d78-4a02-b087-5535ce9d05de"
      },
      "execution_count": null,
      "outputs": [
        {
          "output_type": "display_data",
          "data": {
            "text/plain": [
              "<Figure size 640x480 with 1 Axes>"
            ],
            "image/png": "[encoded data removed]"
          },
          "metadata": {}
        }
      ]
    },
    {
      "cell_type": "code",
      "source": [
        "X_test_constant = sm.add_constant(X_test)\n",
        "y_pred = model.predict(X_test_constant)"
      ],
      "metadata": {
        "id": "hB2QDKmS9lVa"
      },
      "execution_count": null,
      "outputs": []
    },
    {
      "cell_type": "code",
      "source": [
        "y_pred"
      ],
      "metadata": {
        "colab": {
          "base_uri": "https://localhost:8080/"
        },
        "id": "mzfN4q7w9n6f",
        "outputId": "bf67c321-6dad-4578-cbaf-bfb26bbe812b"
      },
      "execution_count": null,
      "outputs": [
        {
          "output_type": "execute_result",
          "data": {
            "text/plain": [
              "array([15.66412369,  9.08257684, 19.40383706,  8.56389864, 14.00348173,\n",
              "       10.49041765, 20.240696  , 19.54331355, 20.10121951, 13.89451573,\n",
              "       11.4144494 ,  8.64235417, 10.39016893,  8.51159496, 17.42501436,\n",
              "        8.67286465,  7.84908164,  9.4138335 , 15.43311575, 16.37022341,\n",
              "       16.7799356 ,  8.04957909, 19.05078719, 13.63299731,  9.35281254,\n",
              "       16.08691179, 10.79988112,  8.2239247 , 12.53026131,  9.57946183,\n",
              "       13.48480354,  9.13052188, 10.45554853,  7.65294282,  7.98419948,\n",
              "       10.96986809, 14.6921469 , 14.59189817, 15.53336448, 13.188416  ,\n",
              "       13.70273555,  7.85344028, 10.35529981, 10.73014287, 20.00968806,\n",
              "        8.84721026,  7.84036435, 10.75629471, 11.85031343,  7.50474905,\n",
              "       11.27497291, 10.80423976, 14.81418883, 10.48170037, 12.582565  ,\n",
              "       12.71332421,  9.42255078, 16.65789367, 17.08504042, 17.16785459,\n",
              "       16.60994863, 13.32789249, 13.41070665, 18.53646764, 18.86336566,\n",
              "       18.07445177])"
            ]
          },
          "metadata": {},
          "execution_count": 67
        }
      ]
    },
    {
      "cell_type": "code",
      "source": [
        "from sklearn.metrics import mean_squared_error\n",
        "from sklearn.metrics import r2_score\n"
      ],
      "metadata": {
        "id": "hvJkrTtM9qwz"
      },
      "execution_count": null,
      "outputs": []
    },
    {
      "cell_type": "code",
      "source": [
        "np.sqrt(mean_squared_error(y_test, y_pred))"
      ],
      "metadata": {
        "colab": {
          "base_uri": "https://localhost:8080/"
        },
        "id": "ng-PyP7q9tke",
        "outputId": "f1f7e201-53e7-485d-e29e-a5ede39043aa"
      },
      "execution_count": null,
      "outputs": [
        {
          "output_type": "execute_result",
          "data": {
            "text/plain": [
              "2.990735291674938"
            ]
          },
          "metadata": {},
          "execution_count": 69
        }
      ]
    },
    {
      "cell_type": "code",
      "source": [
        "r2 = r2_score(y_test, y_pred)\n",
        "r2"
      ],
      "metadata": {
        "colab": {
          "base_uri": "https://localhost:8080/"
        },
        "id": "Cn8ZgIDP9vzc",
        "outputId": "66b6084e-133e-4985-e0a5-7de99017b87c"
      },
      "execution_count": null,
      "outputs": [
        {
          "output_type": "execute_result",
          "data": {
            "text/plain": [
              "0.7189368610818695"
            ]
          },
          "metadata": {},
          "execution_count": 65
        }
      ]
    },
    {
      "cell_type": "code",
      "source": [
        "plt.scatter(X_test, y_test)\n",
        "plt.plot(X_test, 6.9955 + 0.0541 * X_test, 'y')\n",
        "plt.show()"
      ],
      "metadata": {
        "colab": {
          "base_uri": "https://localhost:8080/",
          "height": 430
        },
        "id": "88KEB_og92Ue",
        "outputId": "5d381e41-3515-48d7-e61b-7f1a068cfd24"
      },
      "execution_count": null,
      "outputs": [
        {
          "output_type": "display_data",
          "data": {
            "text/plain": [
              "<Figure size 640x480 with 1 Axes>"
            ],
            "image/png": "[encoded data removed]"
          },
          "metadata": {}
        }
      ]
    }
  ]
}